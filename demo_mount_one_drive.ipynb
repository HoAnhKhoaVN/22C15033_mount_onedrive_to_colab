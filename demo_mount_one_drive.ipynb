{
  "nbformat": 4,
  "nbformat_minor": 0,
  "metadata": {
    "colab": {
      "provenance": []
    },
    "kernelspec": {
      "name": "python3",
      "display_name": "Python 3"
    },
    "language_info": {
      "name": "python"
    }
  },
  "cells": [
    {
      "cell_type": "code",
      "execution_count": 1,
      "metadata": {
        "colab": {
          "base_uri": "https://localhost:8080/"
        },
        "id": "z7-eEkEGCmok",
        "outputId": "968597fe-f69e-4758-933c-3b60f60a8a7f"
      },
      "outputs": [
        {
          "output_type": "stream",
          "name": "stdout",
          "text": [
            "--2023-12-13 09:11:59--  https://downloads.rclone.org/v1.65.0/rclone-v1.65.0-linux-amd64.deb\n",
            "Resolving downloads.rclone.org (downloads.rclone.org)... 95.217.6.16, 2a01:4f9:c012:7154::1\n",
            "Connecting to downloads.rclone.org (downloads.rclone.org)|95.217.6.16|:443... connected.\n",
            "HTTP request sent, awaiting response... 200 OK\n",
            "Length: 20739288 (20M) [application/vnd.debian.binary-package]\n",
            "Saving to: ‘rclone-v1.65.0-linux-amd64.deb’\n",
            "\n",
            "rclone-v1.65.0-linu 100%[===================>]  19.78M  14.5MB/s    in 1.4s    \n",
            "\n",
            "2023-12-13 09:12:01 (14.5 MB/s) - ‘rclone-v1.65.0-linux-amd64.deb’ saved [20739288/20739288]\n",
            "\n"
          ]
        }
      ],
      "source": [
        "!wget https://downloads.rclone.org/v1.65.0/rclone-v1.65.0-linux-amd64.deb"
      ]
    },
    {
      "cell_type": "code",
      "source": [
        "!apt install ./rclone-v1.65.0-linux-amd64.deb"
      ],
      "metadata": {
        "colab": {
          "base_uri": "https://localhost:8080/"
        },
        "id": "mmw8Kviocnuu",
        "outputId": "23944650-7c46-413e-ff86-a7c474938443"
      },
      "execution_count": 2,
      "outputs": [
        {
          "output_type": "stream",
          "name": "stdout",
          "text": [
            "Reading package lists... Done\n",
            "Building dependency tree... Done\n",
            "Reading state information... Done\n",
            "Note, selecting 'rclone' instead of './rclone-v1.65.0-linux-amd64.deb'\n",
            "The following NEW packages will be installed:\n",
            "  rclone\n",
            "0 upgraded, 1 newly installed, 0 to remove and 23 not upgraded.\n",
            "Need to get 0 B/20.7 MB of archives.\n",
            "After this operation, 64.6 MB of additional disk space will be used.\n",
            "Get:1 /content/rclone-v1.65.0-linux-amd64.deb rclone amd64 1.65.0 [20.7 MB]\n",
            "Selecting previously unselected package rclone.\n",
            "(Reading database ... 120903 files and directories currently installed.)\n",
            "Preparing to unpack .../rclone-v1.65.0-linux-amd64.deb ...\n",
            "Unpacking rclone (1.65.0) ...\n",
            "Setting up rclone (1.65.0) ...\n",
            "Processing triggers for man-db (2.10.2-1) ...\n"
          ]
        }
      ]
    },
    {
      "cell_type": "code",
      "source": [
        "!rclone config"
      ],
      "metadata": {
        "colab": {
          "base_uri": "https://localhost:8080/"
        },
        "id": "1f_OpA-octt0",
        "outputId": "02b39555-916f-4491-b04b-63e06522e10a"
      },
      "execution_count": 3,
      "outputs": [
        {
          "output_type": "stream",
          "name": "stdout",
          "text": [
            "2023/12/13 09:12:44 NOTICE: Config file \"/root/.config/rclone/rclone.conf\" not found - using defaults\n",
            "No remotes found, make a new one?\n",
            "n) New remote\n",
            "s) Set configuration password\n",
            "q) Quit config\n",
            "n/s/q> n\n",
            "\n",
            "Enter name for new remote.\n",
            "name> onedrive\n",
            "\n",
            "Option Storage.\n",
            "Type of storage to configure.\n",
            "Choose a number from below, or type in your own value.\n",
            "\u001b[91m 1 / 1Fichier\n",
            "   \\ (fichier)\n",
            "\u001b[0m\u001b[92m 2 / Akamai NetStorage\n",
            "   \\ (netstorage)\n",
            "\u001b[0m\u001b[91m 3 / Alias for an existing remote\n",
            "   \\ (alias)\n",
            "\u001b[0m\u001b[92m 4 / Amazon Drive\n",
            "   \\ (amazon cloud drive)\n",
            "\u001b[0m\u001b[91m 5 / Amazon S3 Compliant Storage Providers including AWS, Alibaba, ArvanCloud, Ceph, ChinaMobile, Cloudflare, DigitalOcean, Dreamhost, GCS, HuaweiOBS, IBMCOS, IDrive, IONOS, LyveCloud, Leviia, Liara, Linode, Minio, Netease, Petabox, RackCorp, Rclone, Scaleway, SeaweedFS, StackPath, Storj, Synology, TencentCOS, Wasabi, Qiniu and others\n",
            "   \\ (s3)\n",
            "\u001b[0m\u001b[92m 6 / Backblaze B2\n",
            "   \\ (b2)\n",
            "\u001b[0m\u001b[91m 7 / Better checksums for other remotes\n",
            "   \\ (hasher)\n",
            "\u001b[0m\u001b[92m 8 / Box\n",
            "   \\ (box)\n",
            "\u001b[0m\u001b[91m 9 / Cache a remote\n",
            "   \\ (cache)\n",
            "\u001b[0m\u001b[92m10 / Citrix Sharefile\n",
            "   \\ (sharefile)\n",
            "\u001b[0m\u001b[91m11 / Combine several remotes into one\n",
            "   \\ (combine)\n",
            "\u001b[0m\u001b[92m12 / Compress a remote\n",
            "   \\ (compress)\n",
            "\u001b[0m\u001b[91m13 / Dropbox\n",
            "   \\ (dropbox)\n",
            "\u001b[0m\u001b[92m14 / Encrypt/Decrypt a remote\n",
            "   \\ (crypt)\n",
            "\u001b[0m\u001b[91m15 / Enterprise File Fabric\n",
            "   \\ (filefabric)\n",
            "\u001b[0m\u001b[92m16 / FTP\n",
            "   \\ (ftp)\n",
            "\u001b[0m\u001b[91m17 / Google Cloud Storage (this is not Google Drive)\n",
            "   \\ (google cloud storage)\n",
            "\u001b[0m\u001b[92m18 / Google Drive\n",
            "   \\ (drive)\n",
            "\u001b[0m\u001b[91m19 / Google Photos\n",
            "   \\ (google photos)\n",
            "\u001b[0m\u001b[92m20 / HTTP\n",
            "   \\ (http)\n",
            "\u001b[0m\u001b[91m21 / Hadoop distributed file system\n",
            "   \\ (hdfs)\n",
            "\u001b[0m\u001b[92m22 / HiDrive\n",
            "   \\ (hidrive)\n",
            "\u001b[0m\u001b[91m23 / ImageKit.io\n",
            "   \\ (imagekit)\n",
            "\u001b[0m\u001b[92m24 / In memory object storage system.\n",
            "   \\ (memory)\n",
            "\u001b[0m\u001b[91m25 / Internet Archive\n",
            "   \\ (internetarchive)\n",
            "\u001b[0m\u001b[92m26 / Jottacloud\n",
            "   \\ (jottacloud)\n",
            "\u001b[0m\u001b[91m27 / Koofr, Digi Storage and other Koofr-compatible storage providers\n",
            "   \\ (koofr)\n",
            "\u001b[0m\u001b[92m28 / Linkbox\n",
            "   \\ (linkbox)\n",
            "\u001b[0m\u001b[91m29 / Local Disk\n",
            "   \\ (local)\n",
            "\u001b[0m\u001b[92m30 / Mail.ru Cloud\n",
            "   \\ (mailru)\n",
            "\u001b[0m\u001b[91m31 / Mega\n",
            "   \\ (mega)\n",
            "\u001b[0m\u001b[92m32 / Microsoft Azure Blob Storage\n",
            "   \\ (azureblob)\n",
            "\u001b[0m\u001b[91m33 / Microsoft Azure Files\n",
            "   \\ (azurefiles)\n",
            "\u001b[0m\u001b[92m34 / Microsoft OneDrive\n",
            "   \\ (onedrive)\n",
            "\u001b[0m\u001b[91m35 / OpenDrive\n",
            "   \\ (opendrive)\n",
            "\u001b[0m\u001b[92m36 / OpenStack Swift (Rackspace Cloud Files, Blomp Cloud Storage, Memset Memstore, OVH)\n",
            "   \\ (swift)\n",
            "\u001b[0m\u001b[91m37 / Oracle Cloud Infrastructure Object Storage\n",
            "   \\ (oracleobjectstorage)\n",
            "\u001b[0m\u001b[92m38 / Pcloud\n",
            "   \\ (pcloud)\n",
            "\u001b[0m\u001b[91m39 / PikPak\n",
            "   \\ (pikpak)\n",
            "\u001b[0m\u001b[92m40 / Proton Drive\n",
            "   \\ (protondrive)\n",
            "\u001b[0m\u001b[91m41 / Put.io\n",
            "   \\ (putio)\n",
            "\u001b[0m\u001b[92m42 / QingCloud Object Storage\n",
            "   \\ (qingstor)\n",
            "\u001b[0m\u001b[91m43 / Quatrix by Maytech\n",
            "   \\ (quatrix)\n",
            "\u001b[0m\u001b[92m44 / SMB / CIFS\n",
            "   \\ (smb)\n",
            "\u001b[0m\u001b[91m45 / SSH/SFTP\n",
            "   \\ (sftp)\n",
            "\u001b[0m\u001b[92m46 / Sia Decentralized Cloud\n",
            "   \\ (sia)\n",
            "\u001b[0m\u001b[91m47 / Storj Decentralized Cloud Storage\n",
            "   \\ (storj)\n",
            "\u001b[0m\u001b[92m48 / Sugarsync\n",
            "   \\ (sugarsync)\n",
            "\u001b[0m\u001b[91m49 / Transparently chunk/split large files\n",
            "   \\ (chunker)\n",
            "\u001b[0m\u001b[92m50 / Union merges the contents of several upstream fs\n",
            "   \\ (union)\n",
            "\u001b[0m\u001b[91m51 / Uptobox\n",
            "   \\ (uptobox)\n",
            "\u001b[0m\u001b[92m52 / WebDAV\n",
            "   \\ (webdav)\n",
            "\u001b[0m\u001b[91m53 / Yandex Disk\n",
            "   \\ (yandex)\n",
            "\u001b[0m\u001b[92m54 / Zoho\n",
            "   \\ (zoho)\n",
            "\u001b[0m\u001b[91m55 / premiumize.me\n",
            "   \\ (premiumizeme)\n",
            "\u001b[0m\u001b[92m56 / seafile\n",
            "   \\ (seafile)\n",
            "\u001b[0mStorage> 34\n",
            "\n",
            "Option client_id.\n",
            "OAuth Client Id.\n",
            "Leave blank normally.\n",
            "Enter a value. Press Enter to leave empty.\n",
            "client_id> \n",
            "\n",
            "Option client_secret.\n",
            "OAuth Client Secret.\n",
            "Leave blank normally.\n",
            "Enter a value. Press Enter to leave empty.\n",
            "client_secret> \n",
            "\n",
            "Option region.\n",
            "Choose national cloud region for OneDrive.\n",
            "Choose a number from below, or type in your own string value.\n",
            "Press Enter for the default (global).\n",
            "\u001b[91m 1 / Microsoft Cloud Global\n",
            "   \\ (global)\n",
            "\u001b[0m\u001b[92m 2 / Microsoft Cloud for US Government\n",
            "   \\ (us)\n",
            "\u001b[0m\u001b[91m 3 / Microsoft Cloud Germany\n",
            "   \\ (de)\n",
            "\u001b[0m\u001b[92m 4 / Azure and Office 365 operated by Vnet Group in China\n",
            "   \\ (cn)\n",
            "\u001b[0mregion> 1\n",
            "\n",
            "Edit advanced config?\n",
            "y) Yes\n",
            "n) No (default)\n",
            "y/n> n\n",
            "\n",
            "Use web browser to automatically authenticate rclone with remote?\n",
            " * Say Y if the machine running rclone has a web browser you can use\n",
            " * Say N if running rclone on a (remote) machine without web browser access\n",
            "If not sure try Y. If Y failed, try N.\n",
            "\n",
            "y) Yes (default)\n",
            "n) No\n",
            "y/n> n\n",
            "\n",
            "Option config_token.\n",
            "For this to work, you will need rclone available on a machine that has\n",
            "a web browser available.\n",
            "For more help and alternate methods see: https://rclone.org/remote_setup/\n",
            "Execute the following on the machine with the web browser (same rclone\n",
            "version recommended):\n",
            "\trclone authorize \"onedrive\"\n",
            "Then paste the result.\n",
            "Enter a value.\n",
            "config_token> {\"access_token\":\"eyJ0eXAiOiJKV1QiLCJub25jZSI6InV1RXdEVm9paXJkVWpQb0ZOMFBPaVNXQVNXb2V0bWZqX01sbzRlQV9iZHciLCJhbGciOiJSUzI1NiIsIng1dCI6IlQxU3QtZExUdnlXUmd4Ql82NzZ1OGtyWFMtSSIsImtpZCI6IlQxU3QtZExUdnlXUmd4Ql82NzZ1OGtyWFMtSSJ9.eyJhdWQiOiIwMDAwMDAwMy0wMDAwLTAwMDAtYzAwMC0wMDAwMDAwMDAwMDAiLCJpc3MiOiJodHRwczovL3N0cy53aW5kb3dzLm5ldC80MDEyN2NkNC00NWYzLTQ5YTMtYjA1ZC0zMTVhNDNhOWYwMzMvIiwiaWF0IjoxNzAyNDU0MzAzLCJuYmYiOjE3MDI0NTQzMDMsImV4cCI6MTcwMjQ1ODM2MywiYWNjdCI6MCwiYWNyIjoiMSIsImFpbyI6IkFWUUFxLzhWQUFBQTJVbWpmcUZ6Ni90Nm0wMzBnYnZmME1oTCtDdGlDRmNNL3BJU2k5SytpcWJGZVM0VWVhSXNDNUtxS3U5aHRYUVRFNUZlUUx3alJRVUY1emVSVDRIK2RmSDdPRGw0QWVWRWxQNkV1aERVZzJzPSIsImFtciI6WyJwd2QiLCJtZmEiXSwiYXBwX2Rpc3BsYXluYW1lIjoicmNsb25lIiwiYXBwaWQiOiJiMTU2NjVkOS1lZGE2LTQwOTItODUzOS0wZWVjMzc2YWZkNTkiLCJhcHBpZGFjciI6IjEiLCJmYW1pbHlfbmFtZSI6Ikjhu5MgQW5oIiwiZ2l2ZW5fbmFtZSI6Iktob2EiLCJpZHR5cCI6InVzZXIiLCJpcGFkZHIiOiIyYTA5OmJhYzU6ZDQ2YzoxNmRjOjoyNDc6MWYiLCJuYW1lIjoiSOG7kyBBbmggS2hvYSIsIm9pZCI6IjYyMDVmOTNiLWQ4MTItNGIyYi05NjMyLWNkN2Y4YjJmN2RkMCIsInBsYXRmIjoiMyIsInB1aWQiOiIxMDAzMjAwMjYzMTY4MTRDIiwicmgiOiIwLkFWUUExSHdTUVBORm8wbXdYVEZhUTZud013TUFBQUFBQUFBQXdBQUFBQUFBQUFCVUFHNC4iLCJzY3AiOiJGaWxlcy5SZWFkIEZpbGVzLlJlYWQuQWxsIEZpbGVzLlJlYWRXcml0ZSBGaWxlcy5SZWFkV3JpdGUuQWxsIFNpdGVzLlJlYWQuQWxsIHByb2ZpbGUgb3BlbmlkIGVtYWlsIiwic3ViIjoick51bW05ZVc5MjBWQ196Z0M1YURoREtUTmxJYWtadDBGN0piWFkwc09zSSIsInRlbmFudF9yZWdpb25fc2NvcGUiOiJBUyIsInRpZCI6IjQwMTI3Y2Q0LTQ1ZjMtNDlhMy1iMDVkLTMxNWE0M2E5ZjAzMyIsInVuaXF1ZV9uYW1lIjoiMjJDMTUwMzNAc3R1ZGVudC5oY211cy5lZHUudm4iLCJ1cG4iOiIyMkMxNTAzM0BzdHVkZW50LmhjbXVzLmVkdS52biIsInV0aSI6IlIxWHFxUVROQzBhMjltVGxvNVZEQUEiLCJ2ZXIiOiIxLjAiLCJ3aWRzIjpbImI3OWZiZjRkLTNlZjktNDY4OS04MTQzLTc2YjE5NGU4NTUwOSJdLCJ4bXNfc3QiOnsic3ViIjoiWHVnQ0t0WTVpUVJjeHdZZGhCQTB5SnhoODlHM2dBTGNKZ2NNLUV6OTZIMCJ9LCJ4bXNfdGNkdCI6MTM3MjE4Njc3MH0.G1Njrp1mYaWJfdjHDq_LTqMJ-PXvwomgDHhxh1jXOg4HNOq6soo5vX7ExXCKS6-y-lvytiXwV5uRPm7Ssubh80mQDL0oal638_07OF1Uo92oaH1VIaC4WwJuEwSEGTcrfS9tJjqF0JfWVh-K1EDsQv3s_1ColFgVIr0dKgvFsJEF_-oftFmAKRrAsKES0ktuCqXHBEfW5hbCR8YHB_0mjeltLMmebZ5FthsE2oUi7PyeRJEzQtJsaTwn7dop4SPjN5X3b6IS2sudqaHZmiwVW0EZVCLEqZoSYPE7oc69HVmtZAcwCwnqd06RJKRbem9ZPpZbyNQ4YRuNl6pxX9_QLw\",\"token_type\":\"Bearer\",\"refresh_token\":\"0.AVQA1HwSQPNFo0mwXTFaQ6nwM9llVrGm7ZJAhTkO7Ddq_VlUAG4.AgABAAEAAAAmoFfGtYxvRrNriQdPKIZ-AgDs_wUA9P_LTvaOD4rbP5TsFmRstnYtaXtv0ZdLcIw9pOWuLXLnaRbZUavUTYlWqd2FRGjM56jkvV2OGJDbXxEtnA9KB2DRmcpHE7g2hSFQStCrNnZ-o8juDG-ig3FZxQju0sMIq7c6Qmj65_pFfi2dHZsCXsUY03UwVMCnO4KU0pEyn8Q9ongm8mdpjjMfjgQ7Ql8CxtY3ZyxwT9vCbZ_Acxa-5ap2csmHd4KlU9bqELacjK2RYtBk2aisHtgHv1cdzfPqeL9QzGimv9Q0aA4ncSs8rDtLkUH0DF4zLEvRA33j4_FE5DEE_m5difHzRziNOVwL6qWifg5vQgQZUT_K_vDUSD56mWWpzCiB-kKZu7AMI0h6RXIr9Q2-6hDBkocBJQPBl1Nw54PkxaZ5P2aYx6W41pU_yvI22I6qSu_M3ZSOyJonyOLUhFTDqvsqf2_Q0ZYtDnNkxA6lLRynxHp8MiOijBezotNDM7d244JiqKu7zT3eLbR9LAoxV_6D8es2x2TUcKMjdaSUe9pguuvSwf8hd6Jyi3Xp3rFfj5o-Ki5uFiqOFBp8mtoil4rgPN7apohkiWtMzMztq1vdBxYkZI3rreJO0TM0A6jKHavf07vGkypmNPLC6_PPDXhW2wXvJMrErhvLDwo5NEf7mJvc_0KdbK_S1ZLtvAXWqGIDD5RtojJbcajaRQfKITCE6bHZJIubmZSndaAWlaJa1X1rkOUdr5t0SWnEHgoTkxeH8UiTiuKKbLM6mQEaEIrMzMYQkvwJn6EDzekO3EHGqH_wroY-xoH5YUCiZgYiXZYb61YVNayNf47J1d_kp3ofMA\",\"expiry\":\"2023-12-13T16:06:03.8676351+07:00\"} \n",
            "\n",
            "Option config_type.\n",
            "Type of connection\n",
            "Choose a number from below, or type in an existing string value.\n",
            "Press Enter for the default (onedrive).\n",
            "\u001b[91m 1 / OneDrive Personal or Business\n",
            "   \\ (onedrive)\n",
            "\u001b[0m\u001b[92m 2 / Root Sharepoint site\n",
            "   \\ (sharepoint)\n",
            "\u001b[0m\u001b[91m   / Sharepoint site name or URL\n",
            " 3 | E.g. mysite or https://contoso.sharepoint.com/sites/mysite\n",
            "   \\ (url)\n",
            "\u001b[0m\u001b[92m 4 / Search for a Sharepoint site\n",
            "   \\ (search)\n",
            "\u001b[0m\u001b[91m 5 / Type in driveID (advanced)\n",
            "   \\ (driveid)\n",
            "\u001b[0m\u001b[92m 6 / Type in SiteID (advanced)\n",
            "   \\ (siteid)\n",
            "\u001b[0m\u001b[91m   / Sharepoint server-relative path (advanced)\n",
            " 7 | E.g. /teams/hr\n",
            "   \\ (path)\n",
            "\u001b[0mconfig_type> 0\n",
            "No choices with this number.\n",
            "config_type> 1\n",
            "\n",
            "Option config_driveid.\n",
            "Select drive you want to use\n",
            "Choose a number from below, or type in your own string value.\n",
            "Press Enter for the default (b!qOThZtImXUS2qAdgiWzyu7owcHOmdphNgMgMnBKQJTxvcePEdGH_Sb1cd9nLQ9wl).\n",
            "\u001b[91m 1 / OneDrive (business)\n",
            "   \\ (b!qOThZtImXUS2qAdgiWzyu7owcHOmdphNgMgMnBKQJTxvcePEdGH_Sb1cd9nLQ9wl)\n",
            "\u001b[0mconfig_driveid> eyJ0eXAiOiJKV1QiLCJub25jZSI6InV1RXdEVm9paXJkVWpQb0ZOMFBPaVNXQVNXb2V0bWZqX01sbzRlQV9iZHciLCJhbGciOiJSUzI1NiIsIng1dCI6IlQxU3QtZExUdnlXUmd4Ql82NzZ1OGtyWFMtSSIsImtpZCI6IlQxU3QtZExUdnlXUmd4Ql82NzZ1OGtyWFMtSSJ9.eyJhdWQiOiIwMDAwMDAwMy0wMDAwLTAwMDAtYzAwMC0wMDAwMDAwMDAwMDAiLCJpc3MiOiJodHRwczovL3N0cy53aW5kb3dzLm5ldC80MDEyN2NkNC00NWYzLTQ5YTMtYjA1ZC0zMTVhNDNhOWYwMzMvIiwiaWF0IjoxNzAyNDU0MzAzLCJuYmYiOjE3MDI0NTQzMDMsImV4cCI6MTcwMjQ1ODM2MywiYWNjdCI6MCwiYWNyIjoiMSIsImFpbyI6IkFWUUFxLzhWQUFBQTJVbWpmcUZ6Ni90Nm0wMzBnYnZmME1oTCtDdGlDRmNNL3BJU2k5SytpcWJGZVM0VWVhSXNDNUtxS3U5aHRYUVRFNUZlUUx3alJRVUY1emVSVDRIK2RmSDdPRGw0QWVWRWxQNkV1aERVZzJzPSIsImFtciI6WyJwd2QiLCJtZmEiXSwiYXBwX2Rpc3BsYXluYW1lIjoicmNsb25lIiwiYXBwaWQiOiJiMTU2NjVkOS1lZGE2LTQwOTItODUzOS0wZWVjMzc2YWZkNTkiLCJhcHBpZGFjciI6IjEiLCJmYW1pbHlfbmFtZSI6Ikjhu5MgQW5oIiwiZ2l2ZW5fbmFtZSI6Iktob2EiLCJpZHR5cCI6InVzZXIiLCJpcGFkZHIiOiIyYTA5OmJhYzU6ZDQ2YzoxNmRjOjoyNDc6MWYiLCJuYW1lIjoiSOG7kyBBbmggS2hvYSIsIm9pZCI6IjYyMDVmOTNiLWQ4MTItNGIyYi05NjMyLWNkN2Y4YjJmN2RkMCIsInBsYXRmIjoiMyIsInB1aWQiOiIxMDAzMjAwMjYzMTY4MTRDIiwicmgiOiIwLkFWUUExSHdTUVBORm8wbXdYVEZhUTZud013TUFBQUFBQUFBQXdBQUFBQUFBQUFCVUFHNC4iLCJzY3AiOiJGaWxlcy5SZWFkIEZpbGVzLlJlYWQuQWxsIEZpbGVzLlJlYWRXcml0ZSBGaWxlcy5SZWFkV3JpdGUuQWxsIFNpdGVzLlJlYWQuQWxsIHByb2ZpbGUgb3BlbmlkIGVtYWlsIiwic3ViIjoick51bW05ZVc5MjBWQ196Z0M1YURoREtUTmxJYWtadDBGN0piWFkwc09zSSIsInRlbmFudF9yZWdpb25fc2NvcGUiOiJBUyIsInRpZCI6IjQwMTI3Y2Q0LTQ1ZjMtNDlhMy1iMDVkLTMxNWE0M2E5ZjAzMyIsInVuaXF1ZV9uYW1lIjoiMjJDMTUwMzNAc3R1ZGVudC5oY211cy5lZHUudm4iLCJ1cG4iOiIyMkMxNTAzM0BzdHVkZW50LmhjbXVzLmVkdS52biIsInV0aSI6IlIxWHFxUVROQzBhMjltVGxvNVZEQUEiLCJ2ZXIiOiIxLjAiLCJ3aWRzIjpbImI3OWZiZjRkLTNlZjktNDY4OS04MTQzLTc2YjE5NGU4NTUwOSJdLCJ4bXNfc3QiOnsic3ViIjoiWHVnQ0t0WTVpUVJjeHdZZGhCQTB5SnhoODlHM2dBTGNKZ2NNLUV6OTZIMCJ9LCJ4bXNfdGNkdCI6MTM3MjE4Njc3MH0.G1Njrp1mYaWJfdjHDq_LTqMJ-PXvwomgDHhxh1jXOg4HNOq6soo5vX7ExXCKS6-y-lvytiXwV5uRPm7Ssubh80mQDL0oal638_07OF1Uo92oaH1VIaC4WwJuEwSEGTcrfS9tJjqF0JfWVh-K1EDsQv3s_1ColFgVIr0dKgvFsJEF_-oftFmAKRrAsKES0ktuCqXHBEfW5hbCR8YHB_0mjeltLMmebZ5FthsE2oUi7PyeRJEzQtJsaTwn7dop4SPjN5X3b6IS2sudqaHZmiwVW0EZVCLEqZoSYPE7oc69HVmtZAcwCwnqd06RJKRbem9ZPpZbyNQ4YRuNl6pxX9_QLw\n",
            "\n",
            "Failed to query root for drive \"eyJ0eXAiOiJKV1QiLCJub25jZSI6InV1RXdEVm9paXJkVWpQb0ZOMFBPaVNXQVNXb2V0bWZqX01sbzRlQV9iZHciLCJhbGciOiJSUzI1NiIsIng1dCI6IlQxU3QtZExUdnlXUmd4Ql82NzZ1OGtyWFMtSSIsImtpZCI6IlQxU3QtZExUdnlXUmd4Ql82NzZ1OGtyWFMtSSJ9.eyJhdWQiOiIwMDAwMDAwMy0wMDAwLTAwMDAtYzAwMC0wMDAwMDAwMDAwMDAiLCJpc3MiOiJodHRwczovL3N0cy53aW5kb3dzLm5ldC80MDEyN2NkNC00NWYzLTQ5YTMtYjA1ZC0zMTVhNDNhOWYwMzMvIiwiaWF0IjoxNzAyNDU0MzAzLCJuYmYiOjE3MDI0NTQzMDMsImV4cCI6MTcwMjQ1ODM2MywiYWNjdCI6MCwiYWNyIjoiMSIsImFpbyI6IkFWUUFxLzhWQUFBQTJVbWpmcUZ6Ni90Nm0wMzBnYnZmME1oTCtDdGlDRmNNL3BJU2k5SytpcWJGZVM0VWVhSXNDNUtxS3U5aHRYUVRFNUZlUUx3alJRVUY1emVSVDRIK2RmSDdPRGw0QWVWRWxQNkV1aERVZzJzPSIsImFtciI6WyJwd2QiLCJtZmEiXSwiYXBwX2Rpc3BsYXluYW1lIjoicmNsb25lIiwiYXBwaWQiOiJiMTU2NjVkOS1lZGE2LTQwOTItODUzOS0wZWVjMzc2YWZkNTkiLCJhcHBpZGFjciI6IjEiLCJmYW1pbHlfbmFtZSI6Ikjhu5MgQW5oIiwiZ2l2ZW5fbmFtZSI6Iktob2EiLCJpZHR5cCI6InVzZXIiLCJpcGFkZHIiOiIyYTA5OmJhYzU6ZDQ2YzoxNmRjOjoyNDc6MWYiLCJuYW1lIjoiSOG7kyBBbmggS2hvYSIsIm9pZCI6IjYyMDVmOTNiLWQ4MTItNGIyYi05NjMyLWNkN2Y4YjJmN2RkMCIsInBsYXRmIjoiMyIsInB1aWQiOiIxMDAzMjAwMjYzMTY4MTRDIiwicmgiOiIwLkFWUUExSHdTUVBORm8wbXdYVEZhUTZud013TUFBQUFBQUFBQXdBQUFBQUFBQUFCVUFHNC4iLCJzY3AiOiJGaWxlcy5SZWFkIEZpbGVzLlJlYWQuQWxsIEZpbGVzLlJlYWRXcml0ZSBGaWxlcy5SZWFkV3JpdGUuQWxsIFNpdGVzLlJlYWQuQWxsIHByb2ZpbGUgb3BlbmlkIGVtYWlsIiwic3ViIjoick51bW05ZVc5MjBWQ196Z0M1YURoREtUTmxJYWtadDBGN0piWFkwc09zSSIsInRlbmFudF9yZWdpb25fc2NvcGUiOiJBUyIsInRpZCI6IjQwMTI3Y2Q0LTQ1ZjMtNDlhMy1iMDVkLTMxNWE0M2E5ZjAzMyIsInVuaXF1ZV9uYW1lIjoiMjJDMTUwMzNAc3R1ZGVudC5oY211cy5lZHUudm4iLCJ1cG4iOiIyMkMxNTAzM0BzdHVkZW50LmhjbXVzLmVkdS52biIsInV0aSI6IlIxWHFxUVROQzBhMjltVGxvNVZEQUEiLCJ2ZXIiOiIxLjAiLCJ3aWRzIjpbImI3OWZiZjRkLTNlZjktNDY4OS04MTQzLTc2YjE5NGU4NTUwOSJdLCJ4bXNfc3QiOnsic3ViIjoiWHVnQ0t0WTVpUVJjeHdZZGhCQTB5SnhoODlHM2dBTGNKZ2NNLUV6OTZIMCJ9LCJ4bXNfdGNkdCI6MTM3MjE4Njc3MH0.G1Njrp1mYaWJfdjHDq_LTqMJ-PXvwomgDHhxh1jXOg4HNOq6soo5vX7ExXCKS6-y-lvytiXwV5uRPm7Ssubh80mQDL0oal638_07OF1Uo92oaH1VIaC4WwJuEwSEGTcrfS9tJjqF0JfWVh-K1EDsQv3s_1ColFgVIr0dKgvFsJEF_-oftFmAKRrAsKES0ktuCqXHBEfW5hbCR8YHB_0mjeltLMmebZ5FthsE2oUi7PyeRJEzQtJsaTwn7dop4SPjN5X3b6IS2sudqaHZmiwVW0EZVCLEqZoSYPE7oc69HVmtZAcwCwnqd06RJKRbem9ZPpZbyNQ4YRuNl6pxX9_QLw\": HTTP error 400 (400 Bad Request) returned body: \"{\\\"error\\\":{\\\"code\\\":\\\"UnknownError\\\",\\\"message\\\":\\\"<!DOCTYPE HTML PUBLIC \\\\\\\"-//W3C//DTD HTML 4.01//EN\\\\\\\"\\\\\\\"http://www.w3.org/TR/html4/strict.dtd\\\\\\\">\\\\r\\\\n<HTML><HEAD><TITLE>Bad Request</TITLE>\\\\r\\\\n<META HTTP-EQUIV=\\\\\\\"Content-Type\\\\\\\" Content=\\\\\\\"text/html; charset=us-ascii\\\\\\\"></HEAD>\\\\r\\\\n<BODY><h2>Bad Request - Invalid URL</h2>\\\\r\\\\n<hr><p>HTTP Error 400. The request URL is invalid.</p>\\\\r\\\\n</BODY></HTML>\\\\r\\\\n\\\",\\\"innerError\\\":{\\\"date\\\":\\\"2023-12-13T09:18:55\\\",\\\"request-id\\\":\\\"e7182476-d751-40c1-9adf-beac4c31f138\\\",\\\"client-request-id\\\":\\\"e7182476-d751-40c1-9adf-beac4c31f138\\\"}}}\"\n",
            "\n",
            "Option config_type.\n",
            "Type of connection\n",
            "Choose a number from below, or type in an existing string value.\n",
            "Press Enter for the default (onedrive).\n",
            "\u001b[91m 1 / OneDrive Personal or Business\n",
            "   \\ (onedrive)\n",
            "\u001b[0m\u001b[92m 2 / Root Sharepoint site\n",
            "   \\ (sharepoint)\n",
            "\u001b[0m\u001b[91m   / Sharepoint site name or URL\n",
            " 3 | E.g. mysite or https://contoso.sharepoint.com/sites/mysite\n",
            "   \\ (url)\n",
            "\u001b[0m\u001b[92m 4 / Search for a Sharepoint site\n",
            "   \\ (search)\n",
            "\u001b[0m\u001b[91m 5 / Type in driveID (advanced)\n",
            "   \\ (driveid)\n",
            "\u001b[0m\u001b[92m 6 / Type in SiteID (advanced)\n",
            "   \\ (siteid)\n",
            "\u001b[0m\u001b[91m   / Sharepoint server-relative path (advanced)\n",
            " 7 | E.g. /teams/hr\n",
            "   \\ (path)\n",
            "\u001b[0mconfig_type> 1\n",
            "\n",
            "Option config_driveid.\n",
            "Select drive you want to use\n",
            "Choose a number from below, or type in your own string value.\n",
            "Press Enter for the default (b!qOThZtImXUS2qAdgiWzyu7owcHOmdphNgMgMnBKQJTxvcePEdGH_Sb1cd9nLQ9wl).\n",
            "\u001b[91m 1 / OneDrive (business)\n",
            "   \\ (b!qOThZtImXUS2qAdgiWzyu7owcHOmdphNgMgMnBKQJTxvcePEdGH_Sb1cd9nLQ9wl)\n",
            "\u001b[0mconfig_driveid> 1\n",
            "\n",
            "Drive OK?\n",
            "\n",
            "Found drive \"root\" of type \"business\"\n",
            "URL: https://studenthcmusedu-my.sharepoint.com/personal/22c15033_student_hcmus_edu_vn/Documents\n",
            "\n",
            "y) Yes (default)\n",
            "n) No\n",
            "y/n> y\n",
            "\n",
            "Configuration complete.\n",
            "Options:\n",
            "- type: onedrive\n",
            "- token: {\"access_token\":\"eyJ0eXAiOiJKV1QiLCJub25jZSI6IkhmQ3RCZlM2WllJNEhLMzUzRnd2d3JfSGVIRnMwUzQxRDdiSHpfVzJuaUUiLCJhbGciOiJSUzI1NiIsIng1dCI6IlQxU3QtZExUdnlXUmd4Ql82NzZ1OGtyWFMtSSIsImtpZCI6IlQxU3QtZExUdnlXUmd4Ql82NzZ1OGtyWFMtSSJ9.eyJhdWQiOiIwMDAwMDAwMy0wMDAwLTAwMDAtYzAwMC0wMDAwMDAwMDAwMDAiLCJpc3MiOiJodHRwczovL3N0cy53aW5kb3dzLm5ldC80MDEyN2NkNC00NWYzLTQ5YTMtYjA1ZC0zMTVhNDNhOWYwMzMvIiwiaWF0IjoxNzAyNDU4NzUzLCJuYmYiOjE3MDI0NTg3NTMsImV4cCI6MTcwMjQ2MzY4OSwiYWNjdCI6MCwiYWNyIjoiMSIsImFpbyI6IkFWUUFxLzhWQUFBQVhKWHFIZTE1elBiR2MrWHhsVFU3NzdFV3BaRmlhNlZkOXBOTGUvU2VwUVovaWVpV2srZkh3T2oyUGczRGNkdzRaTmF5TXE1UE83QUh6UDFnb0lxVnVwU0xyQ3J2aGtzQ0JDejZJVGNQSnlJPSIsImFtciI6WyJwd2QiLCJtZmEiXSwiYXBwX2Rpc3BsYXluYW1lIjoicmNsb25lIiwiYXBwaWQiOiJiMTU2NjVkOS1lZGE2LTQwOTItODUzOS0wZWVjMzc2YWZkNTkiLCJhcHBpZGFjciI6IjEiLCJmYW1pbHlfbmFtZSI6Ikjhu5MgQW5oIiwiZ2l2ZW5fbmFtZSI6Iktob2EiLCJpZHR5cCI6InVzZXIiLCJpcGFkZHIiOiIyYTA5OmJhYzU6ZDQ2YzoxNmRjOjoyNDc6MWYiLCJuYW1lIjoiSOG7kyBBbmggS2hvYSIsIm9pZCI6IjYyMDVmOTNiLWQ4MTItNGIyYi05NjMyLWNkN2Y4YjJmN2RkMCIsInBsYXRmIjoiMyIsInB1aWQiOiIxMDAzMjAwMjYzMTY4MTRDIiwicmgiOiIwLkFWUUExSHdTUVBORm8wbXdYVEZhUTZud013TUFBQUFBQUFBQXdBQUFBQUFBQUFCVUFHNC4iLCJzY3AiOiJGaWxlcy5SZWFkIEZpbGVzLlJlYWQuQWxsIEZpbGVzLlJlYWRXcml0ZSBGaWxlcy5SZWFkV3JpdGUuQWxsIFNpdGVzLlJlYWQuQWxsIHByb2ZpbGUgb3BlbmlkIGVtYWlsIiwic3ViIjoick51bW05ZVc5MjBWQ196Z0M1YURoREtUTmxJYWtadDBGN0piWFkwc09zSSIsInRlbmFudF9yZWdpb25fc2NvcGUiOiJBUyIsInRpZCI6IjQwMTI3Y2Q0LTQ1ZjMtNDlhMy1iMDVkLTMxNWE0M2E5ZjAzMyIsInVuaXF1ZV9uYW1lIjoiMjJDMTUwMzNAc3R1ZGVudC5oY211cy5lZHUudm4iLCJ1cG4iOiIyMkMxNTAzM0BzdHVkZW50LmhjbXVzLmVkdS52biIsInV0aSI6Ik03VVM1VnZxYzBxRVRJSkRjaEpGQUEiLCJ2ZXIiOiIxLjAiLCJ3aWRzIjpbImI3OWZiZjRkLTNlZjktNDY4OS04MTQzLTc2YjE5NGU4NTUwOSJdLCJ4bXNfc3QiOnsic3ViIjoiWHVnQ0t0WTVpUVJjeHdZZGhCQTB5SnhoODlHM2dBTGNKZ2NNLUV6OTZIMCJ9LCJ4bXNfdGNkdCI6MTM3MjE4Njc3MH0.oDbaiOVsUYR2iEBGz-wL1Zt5dqgaXdq-jcTAFraSB6hDQlnui4K_slPqkU2QHnFTqH4Ut67AZ4Dt0cWtveLv-jmTR6_cYERuTuxxiGsrUQ4_DgEiUcTT1lHyd2-Vk84NIY19Tg1GLV1C4xTYlfKP7iDfSuLxdHHTbVJtdiIFlL7xX6N_oMN3aSZdjNsH_pBlVYzSYGd_gx5xqAvcMCLdXTf5LuGDM3za7EjrkQwJFmQvOo930PU6n_X0ey4xo8OMSgZb6kLaBxcCoBw17Zd6JZWHMzaYExmjMIqOH62iBYzF02OtIMRy6bEesZSLhgFXhBMTRz7QYVFes--yORB5TA\",\"token_type\":\"Bearer\",\"refresh_token\":\"0.AVQA1HwSQPNFo0mwXTFaQ6nwM9llVrGm7ZJAhTkO7Ddq_VlUAG4.AgABAAEAAAAmoFfGtYxvRrNriQdPKIZ-AgDs_wUA9P8qySaZo5Yb8z-T9BtoqHlXoFyUVpNBUBN_yecPR5psPQ63_rqtYx1fMVIvQyrLEkJVn8brIIo-hRUoGB0MpjEexYDEmE1SyOXozuP7meEKn6Msk22wwyWmpYQKJhB2ssCkO5PO32N8HOBbXe6_bC_6JxKGBTYJZ48bxhXkL0dy1COwY9s2GsvDU1ewJ06vJP-XUHawrLarzwwoj8Fi5KhXcQFU12_aFSfWzd9tWbguGPyJ9cWcauH5cN604Rjsb5nMqK423cppMRd9xFhnf18_KtcniZH3erjgiXRDRQOB_4C2f7fISpFUUWUahRszLdC3i9-QsVqt4GQ-wmP3wrPKs8_EaAwLUBMLtebLfur3l-slmrEUiziVh1pBJYeG1PO3EjIoiS8FpcjvU9xjJT2qQOt1A3gEzpsPZpvuUo9H4lLWslV-H7fLpzCyP_LdqshVtua3OIQ_wQ2bLqOnXqtgpP0I-JgVE6hGJjuSOuROhq5RwYP9MOCHBMW-U4qWxzyjQwZquO0ZJHt6FIPgngghjJ-OxWpD-zxy9AmhJazYQF3OQ8ZyyInWTPMV88WNjm2uVQXhFYsmAzyTlh3UjB5u0xASRb5dfZD4MUb9F9n1dEF8YrEfMe3e1NFhvda1n8-iss1ofbohOqPYNDYUMKNiw0K_mFWtbERbH9uuT5GOZXMpvE_DUEBb6s9U1skyB5G4VWKAiieqfiqFi9arPqsWS8GNyvDjhwb1vpLrkV6JB_8PCl2IM-4v9_Zi-0QQMxkOiyvtby50ojxbQpk45iUn0Cc1IzReKXMbRV5cqDVeVDCW2Z8pR50u3A\",\"expiry\":\"2023-12-13T10:34:49.226232017Z\"}\n",
            "- drive_id: b!qOThZtImXUS2qAdgiWzyu7owcHOmdphNgMgMnBKQJTxvcePEdGH_Sb1cd9nLQ9wl\n",
            "- drive_type: business\n",
            "Keep this \"onedrive\" remote?\n",
            "y) Yes this is OK (default)\n",
            "e) Edit this remote\n",
            "d) Delete this remote\n",
            "y/e/d> \n",
            "\n",
            "Current remotes:\n",
            "\n",
            "Name                 Type\n",
            "====                 ====\n",
            "onedrive             onedrive\n",
            "\n",
            "e) Edit existing remote\n",
            "n) New remote\n",
            "d) Delete remote\n",
            "r) Rename remote\n",
            "c) Copy remote\n",
            "s) Set configuration password\n",
            "q) Quit config\n",
            "e/n/d/r/c/s/q> q\n"
          ]
        }
      ]
    },
    {
      "cell_type": "code",
      "source": [
        "!apt-get -y install fuse3"
      ],
      "metadata": {
        "colab": {
          "base_uri": "https://localhost:8080/"
        },
        "id": "R4Li5FRCexKR",
        "outputId": "13adf811-d038-44ac-daf7-9c82b2786bed"
      },
      "execution_count": 6,
      "outputs": [
        {
          "output_type": "stream",
          "name": "stdout",
          "text": [
            "Reading package lists... Done\n",
            "Building dependency tree... Done\n",
            "Reading state information... Done\n",
            "fuse3 is already the newest version (3.10.5-1build1).\n",
            "The following package was automatically installed and is no longer required:\n",
            "  libfuse2\n",
            "Use 'apt autoremove' to remove it.\n",
            "0 upgraded, 0 newly installed, 0 to remove and 23 not upgraded.\n"
          ]
        }
      ]
    },
    {
      "cell_type": "code",
      "source": [
        "!sudo mkdir /content/onedrive\n",
        "!nohup rclone --vfs-cache-mode writes mount onedrive: /content/onedrive &"
      ],
      "metadata": {
        "id": "6eU2VIh3cyfU"
      },
      "execution_count": null,
      "outputs": []
    },
    {
      "cell_type": "markdown",
      "source": [
        "# Thử tạo file mới xem có đồng bộ qua OneDrive của mình hông?"
      ],
      "metadata": {
        "id": "qFOiVt8mqK2P"
      }
    },
    {
      "cell_type": "code",
      "source": [
        "%cd /content/onedrive"
      ],
      "metadata": {
        "colab": {
          "base_uri": "https://localhost:8080/"
        },
        "id": "6r6stYyFgY7E",
        "outputId": "543ae070-ac57-4957-dfd4-ccbb3a8dd5ca"
      },
      "execution_count": 8,
      "outputs": [
        {
          "output_type": "stream",
          "name": "stdout",
          "text": [
            "/content/onedrive\n"
          ]
        }
      ]
    },
    {
      "cell_type": "code",
      "source": [
        "%cd Master"
      ],
      "metadata": {
        "colab": {
          "base_uri": "https://localhost:8080/"
        },
        "id": "j42RIxKAp9gV",
        "outputId": "294ed2e1-9f60-4baf-f356-cbdad03e093a"
      },
      "execution_count": 10,
      "outputs": [
        {
          "output_type": "stream",
          "name": "stdout",
          "text": [
            "/content/onedrive/Master\n"
          ]
        }
      ]
    },
    {
      "cell_type": "code",
      "source": [
        "!echo \"Hello. I mounted OneDrive to Colab.\" >> demo_mount_onedrive.txt"
      ],
      "metadata": {
        "id": "5eaaAguVp_B6"
      },
      "execution_count": 11,
      "outputs": []
    },
    {
      "cell_type": "code",
      "source": [],
      "metadata": {
        "id": "iS0jN72iqfYc"
      },
      "execution_count": null,
      "outputs": []
    }
  ]
}